{
 "cells": [
  {
   "cell_type": "code",
   "execution_count": 86,
   "outputs": [],
   "source": [
    "import numpy as np\n",
    "import pandas as pd\n",
    "import matplotlib.pyplot as plt\n",
    "import matplotlib.image as mpimg\n",
    "import torch\n",
    "from torch.autograd import Variable\n",
    "import torch.nn as nn\n",
    "import torchvision.transforms as tf\n",
    "import seaborn as sns\n",
    "from tqdm.notebook import tqdm\n",
    "import torchvision.datasets as dts\n",
    "from PIL import Image\n",
    "import PIL.ImageOps"
   ],
   "metadata": {
    "collapsed": false,
    "pycharm": {
     "name": "#%%\n"
    }
   }
  },
  {
   "cell_type": "code",
   "execution_count": 2,
   "outputs": [
    {
     "name": "stdout",
     "output_type": "stream",
     "text": [
      "cuda\n"
     ]
    }
   ],
   "source": [
    "device = torch.device(\"cuda\" if torch.cuda.is_available() else \"cpu\")\n",
    "#device = torch.device(\"cpu\")\n",
    "print(device)"
   ],
   "metadata": {
    "collapsed": false,
    "pycharm": {
     "name": "#%%\n"
    }
   }
  },
  {
   "cell_type": "code",
   "execution_count": 3,
   "outputs": [],
   "source": [
    "trnsform = tf.Compose([tf.ToTensor(), tf.Normalize((0.7,), (0.7,)),])\n",
    "data_train=dts.MNIST(root='./Data', train=True, download=True, transform=trnsform)\n",
    "data_test=dts.MNIST(root='./Data', train=False, download=True, transform=trnsform)"
   ],
   "metadata": {
    "collapsed": false,
    "pycharm": {
     "name": "#%%\n"
    }
   }
  },
  {
   "cell_type": "code",
   "execution_count": 4,
   "outputs": [],
   "source": [
    "train_loader = torch.utils.data.DataLoader(data_train, batch_size=10, shuffle=True)\n",
    "test_loader = torch.utils.data.DataLoader(data_test, batch_size=10, shuffle=True)"
   ],
   "metadata": {
    "collapsed": false,
    "pycharm": {
     "name": "#%%\n"
    }
   }
  },
  {
   "cell_type": "code",
   "execution_count": 5,
   "outputs": [],
   "source": [
    "class ANN_model(nn.Module):\n",
    "    def __init__(self, input_dim, output_dim):\n",
    "        super(ANN_model,self).__init__()\n",
    "        self.linear1 = nn.Linear(input_dim, 400)\n",
    "        self.relu1 = nn.LeakyReLU()\n",
    "\n",
    "        self.linear2 = nn.Linear(400, 100)\n",
    "        self.tanh2 = nn.Tanh()\n",
    "\n",
    "        self.linear3 = nn.Linear(100, 300)\n",
    "        self.elu3 = nn.ELU()\n",
    "\n",
    "\n",
    "        self.linear4 = nn.Linear(300,output_dim)\n",
    "\n",
    "    def forward(self, x):\n",
    "        out = self.linear1(x)\n",
    "        out = self.relu1(out)\n",
    "\n",
    "        out = self.linear2(out)\n",
    "        out = self.tanh2(out)\n",
    "\n",
    "        out = self.linear3(out)\n",
    "        out = self.elu3(out)\n",
    "\n",
    "\n",
    "        out = self.linear4(out)\n",
    "        return out"
   ],
   "metadata": {
    "collapsed": false,
    "pycharm": {
     "name": "#%%\n"
    }
   }
  },
  {
   "cell_type": "code",
   "execution_count": 6,
   "outputs": [],
   "source": [
    "#instatntiate ANN\n",
    "input_dim = 28*28\n",
    "output_dim = 10\n",
    "\n",
    "#Create ANN\n",
    "model = ANN_model(input_dim, output_dim).to(device)\n",
    "\n",
    "#loss function\n",
    "error = nn.CrossEntropyLoss()\n",
    "\n",
    "#Optimizer\n",
    "learning_rate = 0.01\n",
    "optimizer = torch.optim.SGD(model.parameters(), lr=learning_rate, momentum=0.3)"
   ],
   "metadata": {
    "collapsed": false,
    "pycharm": {
     "name": "#%%\n"
    }
   }
  },
  {
   "cell_type": "code",
   "execution_count": 7,
   "outputs": [
    {
     "name": "stdout",
     "output_type": "stream",
     "text": [
      "epoch: 0\n"
     ]
    },
    {
     "data": {
      "text/plain": "0it [00:00, ?it/s]",
      "application/vnd.jupyter.widget-view+json": {
       "version_major": 2,
       "version_minor": 0,
       "model_id": "898b28237d3a465b96a7d0e4dd11ceec"
      }
     },
     "metadata": {},
     "output_type": "display_data"
    },
    {
     "name": "stdout",
     "output_type": "stream",
     "text": [
      "epoch: 1\n"
     ]
    },
    {
     "data": {
      "text/plain": "0it [00:00, ?it/s]",
      "application/vnd.jupyter.widget-view+json": {
       "version_major": 2,
       "version_minor": 0,
       "model_id": "52d1146758b7465aae3fc447081299cd"
      }
     },
     "metadata": {},
     "output_type": "display_data"
    },
    {
     "name": "stdout",
     "output_type": "stream",
     "text": [
      "epoch: 2\n"
     ]
    },
    {
     "data": {
      "text/plain": "0it [00:00, ?it/s]",
      "application/vnd.jupyter.widget-view+json": {
       "version_major": 2,
       "version_minor": 0,
       "model_id": "fc78ea5919ed4812ae22fbf599e28ab9"
      }
     },
     "metadata": {},
     "output_type": "display_data"
    },
    {
     "name": "stdout",
     "output_type": "stream",
     "text": [
      "epoch: 3\n"
     ]
    },
    {
     "data": {
      "text/plain": "0it [00:00, ?it/s]",
      "application/vnd.jupyter.widget-view+json": {
       "version_major": 2,
       "version_minor": 0,
       "model_id": "f7d710a18ec74ad984a01c9ecc6e3427"
      }
     },
     "metadata": {},
     "output_type": "display_data"
    },
    {
     "name": "stdout",
     "output_type": "stream",
     "text": [
      "epoch: 4\n"
     ]
    },
    {
     "data": {
      "text/plain": "0it [00:00, ?it/s]",
      "application/vnd.jupyter.widget-view+json": {
       "version_major": 2,
       "version_minor": 0,
       "model_id": "87c76065cda04369997c86dc5fec9f4a"
      }
     },
     "metadata": {},
     "output_type": "display_data"
    },
    {
     "name": "stdout",
     "output_type": "stream",
     "text": [
      "epoch: 5\n"
     ]
    },
    {
     "data": {
      "text/plain": "0it [00:00, ?it/s]",
      "application/vnd.jupyter.widget-view+json": {
       "version_major": 2,
       "version_minor": 0,
       "model_id": "fe3f53350502469aa1dea595595d36aa"
      }
     },
     "metadata": {},
     "output_type": "display_data"
    },
    {
     "name": "stdout",
     "output_type": "stream",
     "text": [
      "epoch: 6\n"
     ]
    },
    {
     "data": {
      "text/plain": "0it [00:00, ?it/s]",
      "application/vnd.jupyter.widget-view+json": {
       "version_major": 2,
       "version_minor": 0,
       "model_id": "f98f013a8fb44f55a2fb5ff5547f9aef"
      }
     },
     "metadata": {},
     "output_type": "display_data"
    },
    {
     "name": "stdout",
     "output_type": "stream",
     "text": [
      "epoch: 7\n"
     ]
    },
    {
     "data": {
      "text/plain": "0it [00:00, ?it/s]",
      "application/vnd.jupyter.widget-view+json": {
       "version_major": 2,
       "version_minor": 0,
       "model_id": "dd0d901ab5e64ffeb1455f5410b91e2f"
      }
     },
     "metadata": {},
     "output_type": "display_data"
    },
    {
     "name": "stdout",
     "output_type": "stream",
     "text": [
      "epoch: 8\n"
     ]
    },
    {
     "data": {
      "text/plain": "0it [00:00, ?it/s]",
      "application/vnd.jupyter.widget-view+json": {
       "version_major": 2,
       "version_minor": 0,
       "model_id": "598e93fd565b4525aeb02a645468d751"
      }
     },
     "metadata": {},
     "output_type": "display_data"
    },
    {
     "name": "stdout",
     "output_type": "stream",
     "text": [
      "epoch: 9\n"
     ]
    },
    {
     "data": {
      "text/plain": "0it [00:00, ?it/s]",
      "application/vnd.jupyter.widget-view+json": {
       "version_major": 2,
       "version_minor": 0,
       "model_id": "6f68051d8db941b7bacc33a942e09d84"
      }
     },
     "metadata": {},
     "output_type": "display_data"
    }
   ],
   "source": [
    "# model training\n",
    "count = 0\n",
    "num_epochs = 10\n",
    "accuracy = 0\n",
    "loss_list = []\n",
    "iteration_list = []\n",
    "accuracy_list = []\n",
    "for epoch in range(num_epochs):\n",
    "    print(f'epoch: {epoch}')\n",
    "    for i, (image, label) in tqdm(enumerate(train_loader)):\n",
    "        train = Variable(image.view(-1,28*28)).to(device)\n",
    "        label = Variable(label).to(device)\n",
    "\n",
    "        #Clear gradient\n",
    "        optimizer.zero_grad()\n",
    "\n",
    "        #Forward propagation\n",
    "        result = model(train)\n",
    "\n",
    "        #Calculate softmax and cross entropy loss\n",
    "        loss = error(result, label)\n",
    "\n",
    "        #Calculating gradients\n",
    "        loss.backward()\n",
    "\n",
    "        #upadate parameters\n",
    "        optimizer.step()\n",
    "\n",
    "        count+=1\n",
    "\n",
    "        #if count % 500 == 0:\n",
    "            #Calculate Accuracy\n",
    "        #    correct = 0\n",
    "        #    total = 0\n",
    "            # Predict test dataset\n",
    "        #    for image, label in test_loader:\n",
    "            #    test = Variable(image.view(-1, 28*28))\n",
    "                #Forward propagation\n",
    "            #    output = model(test)\n",
    "\n",
    "                #Get maximum value\n",
    "            #    predict = torch.max(output.data, 1)[1]\n",
    "\n",
    "                #Total number of labels\n",
    "            #    total += len(label)\n",
    "\n",
    "                #Total correct predictions\n",
    "            #    correct += (predict==label).sum()\n",
    "\n",
    "            #accuracy += 100 * correct / float(total)\n",
    "\n",
    "        #store loss and iteration\n",
    "        loss_list.append(loss.data)\n",
    "        iteration_list.append(count)\n",
    "        #accuracy_list.append(accuracy)\n",
    "\n",
    "        #if count % 10 == 0:\n",
    "        #Print Loss\n",
    "        #    print('Iteration: {}  Loss: {}'.format(count, loss.data))\n",
    "        #print(f'---Model calculated---\\nloss: {loss_list[count-1]}')"
   ],
   "metadata": {
    "collapsed": false,
    "pycharm": {
     "name": "#%%\n"
    }
   }
  },
  {
   "cell_type": "code",
   "execution_count": 8,
   "outputs": [
    {
     "data": {
      "text/plain": "<Figure size 432x288 with 1 Axes>",
      "image/png": "[encoded data removed]"
     },
     "metadata": {
      "needs_background": "light"
     },
     "output_type": "display_data"
    },
    {
     "data": {
      "text/plain": "0.014376930892467499"
     },
     "execution_count": 8,
     "metadata": {},
     "output_type": "execute_result"
    }
   ],
   "source": [
    "loss_list_cpu = torch.tensor(loss_list, device = 'cpu')\n",
    "plt.plot(range(count),loss_list_cpu)\n",
    "plt.xlabel(\"Number of Iterations\")\n",
    "plt.ylabel(\"Loss\")\n",
    "plt.show()\n",
    "loss_list[count-1].item()"
   ],
   "metadata": {
    "collapsed": false,
    "pycharm": {
     "name": "#%%\n"
    }
   }
  },
  {
   "cell_type": "code",
   "execution_count": 10,
   "outputs": [
    {
     "name": "stdout",
     "output_type": "stream",
     "text": [
      "accuracy: 97.56 %\n"
     ]
    }
   ],
   "source": [
    "accuracy = 0\n",
    "iteration_list = []\n",
    "accuracy_list = []\n",
    "\n",
    "#Calculate Accuracy\n",
    "correct = 0\n",
    "total = 0\n",
    "# Predict test dataset\n",
    "for image, label in test_loader:\n",
    "    test = Variable(image.view(-1, 28*28)).to(device)\n",
    "    label = Variable(label).to(device)\n",
    "    #Forward propagation\n",
    "    output = model(test)\n",
    "\n",
    "    #Get maximum value\n",
    "    predict = torch.max(output.data, 1)[1]\n",
    "\n",
    "    #Total number of labels\n",
    "    total += len(label)\n",
    "\n",
    "    #Total correct predictions\n",
    "    correct += (predict==label).sum()\n",
    "\n",
    "accuracy += 100 * correct / float(total)\n",
    "\n",
    "#store loss and iteration\n",
    "accuracy_list.append(accuracy)\n",
    "print('accuracy: {:.2f} %'.format(accuracy))"
   ],
   "metadata": {
    "collapsed": false,
    "pycharm": {
     "name": "#%%\n"
    }
   }
  }
 ],
 "metadata": {
  "kernelspec": {
   "display_name": "Python 3",
   "language": "python",
   "name": "python3"
  },
  "language_info": {
   "codemirror_mode": {
    "name": "ipython",
    "version": 2
   },
   "file_extension": ".py",
   "mimetype": "text/x-python",
   "name": "python",
   "nbconvert_exporter": "python",
   "pygments_lexer": "ipython2",
   "version": "2.7.6"
  }
 },
 "nbformat": 4,
 "nbformat_minor": 0
}